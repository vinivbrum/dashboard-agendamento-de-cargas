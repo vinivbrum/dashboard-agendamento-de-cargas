{
 "cells": [
  {
   "cell_type": "code",
   "execution_count": 120,
   "metadata": {},
   "outputs": [],
   "source": [
    "import pandas as pd"
   ]
  },
  {
   "cell_type": "code",
   "execution_count": 121,
   "metadata": {},
   "outputs": [],
   "source": [
    "df = pd.read_excel('Pedidos Semanal.xlsx', sheet_name='COMPRAS',skiprows=2,header=0)"
   ]
  },
  {
   "cell_type": "code",
   "execution_count": 122,
   "metadata": {},
   "outputs": [],
   "source": [
    "df.drop(columns=['shelflife','Estoque'],inplace=True)"
   ]
  },
  {
   "cell_type": "code",
   "execution_count": 123,
   "metadata": {},
   "outputs": [],
   "source": [
    "df = df[df['Status'] == 'Pedido']"
   ]
  },
  {
   "cell_type": "code",
   "execution_count": 124,
   "metadata": {},
   "outputs": [],
   "source": [
    "df.drop(columns='Status',inplace=True)"
   ]
  },
  {
   "cell_type": "code",
   "execution_count": 125,
   "metadata": {},
   "outputs": [
    {
     "data": {
      "text/plain": [
       "'TERÇA 7/5,QUARTA 8/5,QUINTA 9/5,SEXTA 10/5,SABADO 11/5,DOMINGO 12/5,SEGUNDA 13/5,TERÇA 14/5,QUARTA 15/5,QUINTA 16/5,SEXTA 17/5'"
      ]
     },
     "execution_count": 125,
     "metadata": {},
     "output_type": "execute_result"
    }
   ],
   "source": [
    "colums_list = df.columns.to_list()\n",
    "colums_list \n",
    "dias = colums_list[3:14]\n",
    "dias_strg = ','.join(dias)\n",
    "dias_strg\n"
   ]
  },
  {
   "cell_type": "code",
   "execution_count": 126,
   "metadata": {},
   "outputs": [],
   "source": [
    "df = df.melt(id_vars=['Responsável','Item','BASE ID'],value_vars=dias,var_name='Pedido',value_name='Valor',ignore_index=True )\n"
   ]
  },
  {
   "cell_type": "code",
   "execution_count": 127,
   "metadata": {},
   "outputs": [],
   "source": [
    "df = df.dropna(subset=['Valor'])"
   ]
  },
  {
   "cell_type": "code",
   "execution_count": 128,
   "metadata": {},
   "outputs": [],
   "source": [
    "def separar_dia(dia):\n",
    "    dia = dia.split(' ')\n",
    "    dia = dia[0]\n",
    "    return dia\n",
    "df['Dia'] = df['Pedido'].apply(separar_dia)\n",
    "\n",
    "def separar_data(data):\n",
    "    data = data.split(' ')\n",
    "    data = data[1]\n",
    "    data = data + '/2024'\n",
    "    return data\n",
    "\n",
    "df['Data'] = df['Pedido'].apply(separar_data)\n",
    "df['Data'] = pd.to_datetime(df['Data'], format='%d/%m/%Y')"
   ]
  },
  {
   "cell_type": "code",
   "execution_count": 129,
   "metadata": {},
   "outputs": [],
   "source": [
    "df = df.sort_values(by=['Responsável','Data','Item'],ascending=True)"
   ]
  },
  {
   "cell_type": "code",
   "execution_count": 130,
   "metadata": {},
   "outputs": [
    {
     "data": {
      "text/html": [
       "<div>\n",
       "<style scoped>\n",
       "    .dataframe tbody tr th:only-of-type {\n",
       "        vertical-align: middle;\n",
       "    }\n",
       "\n",
       "    .dataframe tbody tr th {\n",
       "        vertical-align: top;\n",
       "    }\n",
       "\n",
       "    .dataframe thead th {\n",
       "        text-align: right;\n",
       "    }\n",
       "</style>\n",
       "<table border=\"1\" class=\"dataframe\">\n",
       "  <thead>\n",
       "    <tr style=\"text-align: right;\">\n",
       "      <th></th>\n",
       "      <th>Responsável</th>\n",
       "      <th>Item</th>\n",
       "      <th>BASE ID</th>\n",
       "      <th>Pedido</th>\n",
       "      <th>Valor</th>\n",
       "      <th>Dia</th>\n",
       "      <th>Data</th>\n",
       "    </tr>\n",
       "  </thead>\n",
       "  <tbody>\n",
       "    <tr>\n",
       "      <th>119</th>\n",
       "      <td>Byanca</td>\n",
       "      <td>Abacaxi pérola</td>\n",
       "      <td>8.0</td>\n",
       "      <td>QUARTA 8/5</td>\n",
       "      <td>1600.0</td>\n",
       "      <td>QUARTA</td>\n",
       "      <td>2024-05-08</td>\n",
       "    </tr>\n",
       "    <tr>\n",
       "      <th>176</th>\n",
       "      <td>Byanca</td>\n",
       "      <td>Laranja pera média</td>\n",
       "      <td>210.0</td>\n",
       "      <td>QUARTA 8/5</td>\n",
       "      <td>4000.0</td>\n",
       "      <td>QUARTA</td>\n",
       "      <td>2024-05-08</td>\n",
       "    </tr>\n",
       "    <tr>\n",
       "      <th>179</th>\n",
       "      <td>Byanca</td>\n",
       "      <td>Limão siciliano</td>\n",
       "      <td>110.0</td>\n",
       "      <td>QUARTA 8/5</td>\n",
       "      <td>120.0</td>\n",
       "      <td>QUARTA</td>\n",
       "      <td>2024-05-08</td>\n",
       "    </tr>\n",
       "    <tr>\n",
       "      <th>180</th>\n",
       "      <td>Byanca</td>\n",
       "      <td>Limão tahiti</td>\n",
       "      <td>234.0</td>\n",
       "      <td>QUARTA 8/5</td>\n",
       "      <td>1600.0</td>\n",
       "      <td>QUARTA</td>\n",
       "      <td>2024-05-08</td>\n",
       "    </tr>\n",
       "    <tr>\n",
       "      <th>191</th>\n",
       "      <td>Byanca</td>\n",
       "      <td>Maracujá</td>\n",
       "      <td>34.0</td>\n",
       "      <td>QUARTA 8/5</td>\n",
       "      <td>500.0</td>\n",
       "      <td>QUARTA</td>\n",
       "      <td>2024-05-08</td>\n",
       "    </tr>\n",
       "    <tr>\n",
       "      <th>...</th>\n",
       "      <td>...</td>\n",
       "      <td>...</td>\n",
       "      <td>...</td>\n",
       "      <td>...</td>\n",
       "      <td>...</td>\n",
       "      <td>...</td>\n",
       "      <td>...</td>\n",
       "    </tr>\n",
       "    <tr>\n",
       "      <th>854</th>\n",
       "      <td>Nidia</td>\n",
       "      <td>Batata lavada</td>\n",
       "      <td>182.0</td>\n",
       "      <td>TERÇA 14/5</td>\n",
       "      <td>3000.0</td>\n",
       "      <td>TERÇA</td>\n",
       "      <td>2024-05-14</td>\n",
       "    </tr>\n",
       "    <tr>\n",
       "      <th>855</th>\n",
       "      <td>Nidia</td>\n",
       "      <td>Berinjela</td>\n",
       "      <td>222.0</td>\n",
       "      <td>TERÇA 14/5</td>\n",
       "      <td>680.0</td>\n",
       "      <td>TERÇA</td>\n",
       "      <td>2024-05-14</td>\n",
       "    </tr>\n",
       "    <tr>\n",
       "      <th>983</th>\n",
       "      <td>Nidia</td>\n",
       "      <td>Chuchu</td>\n",
       "      <td>157.0</td>\n",
       "      <td>QUARTA 15/5</td>\n",
       "      <td>480.0</td>\n",
       "      <td>QUARTA</td>\n",
       "      <td>2024-05-15</td>\n",
       "    </tr>\n",
       "    <tr>\n",
       "      <th>1030</th>\n",
       "      <td>Nidia</td>\n",
       "      <td>Pepino japonês</td>\n",
       "      <td>33.0</td>\n",
       "      <td>QUARTA 15/5</td>\n",
       "      <td>480.0</td>\n",
       "      <td>QUARTA</td>\n",
       "      <td>2024-05-15</td>\n",
       "    </tr>\n",
       "    <tr>\n",
       "      <th>1148</th>\n",
       "      <td>Nidia</td>\n",
       "      <td>Pepino japonês</td>\n",
       "      <td>33.0</td>\n",
       "      <td>QUINTA 16/5</td>\n",
       "      <td>500.0</td>\n",
       "      <td>QUINTA</td>\n",
       "      <td>2024-05-16</td>\n",
       "    </tr>\n",
       "  </tbody>\n",
       "</table>\n",
       "<p>223 rows × 7 columns</p>\n",
       "</div>"
      ],
      "text/plain": [
       "     Responsável                Item  BASE ID       Pedido   Valor     Dia  \\\n",
       "119       Byanca      Abacaxi pérola      8.0   QUARTA 8/5  1600.0  QUARTA   \n",
       "176       Byanca  Laranja pera média    210.0   QUARTA 8/5  4000.0  QUARTA   \n",
       "179       Byanca     Limão siciliano    110.0   QUARTA 8/5   120.0  QUARTA   \n",
       "180       Byanca        Limão tahiti    234.0   QUARTA 8/5  1600.0  QUARTA   \n",
       "191       Byanca            Maracujá     34.0   QUARTA 8/5   500.0  QUARTA   \n",
       "...          ...                 ...      ...          ...     ...     ...   \n",
       "854        Nidia       Batata lavada    182.0   TERÇA 14/5  3000.0   TERÇA   \n",
       "855        Nidia           Berinjela    222.0   TERÇA 14/5   680.0   TERÇA   \n",
       "983        Nidia              Chuchu    157.0  QUARTA 15/5   480.0  QUARTA   \n",
       "1030       Nidia      Pepino japonês     33.0  QUARTA 15/5   480.0  QUARTA   \n",
       "1148       Nidia      Pepino japonês     33.0  QUINTA 16/5   500.0  QUINTA   \n",
       "\n",
       "           Data  \n",
       "119  2024-05-08  \n",
       "176  2024-05-08  \n",
       "179  2024-05-08  \n",
       "180  2024-05-08  \n",
       "191  2024-05-08  \n",
       "...         ...  \n",
       "854  2024-05-14  \n",
       "855  2024-05-14  \n",
       "983  2024-05-15  \n",
       "1030 2024-05-15  \n",
       "1148 2024-05-16  \n",
       "\n",
       "[223 rows x 7 columns]"
      ]
     },
     "execution_count": 130,
     "metadata": {},
     "output_type": "execute_result"
    }
   ],
   "source": [
    "df"
   ]
  },
  {
   "cell_type": "code",
   "execution_count": 153,
   "metadata": {},
   "outputs": [],
   "source": [
    "import datetime\n",
    "import numpy as np"
   ]
  },
  {
   "cell_type": "code",
   "execution_count": 132,
   "metadata": {},
   "outputs": [],
   "source": [
    "date_today = datetime.datetime.today().date()"
   ]
  },
  {
   "cell_type": "code",
   "execution_count": 157,
   "metadata": {},
   "outputs": [],
   "source": [
    "_today= datetime.datetime.today().strftime('%Y-%m-%d')\n",
    "_today = np.datetime64(_today)"
   ]
  },
  {
   "cell_type": "code",
   "execution_count": 137,
   "metadata": {},
   "outputs": [
    {
     "data": {
      "text/plain": [
       "<bound method NDFrame.describe of 119    2024-05-08\n",
       "176    2024-05-08\n",
       "179    2024-05-08\n",
       "180    2024-05-08\n",
       "191    2024-05-08\n",
       "          ...    \n",
       "854    2024-05-14\n",
       "855    2024-05-14\n",
       "983    2024-05-15\n",
       "1030   2024-05-15\n",
       "1148   2024-05-16\n",
       "Name: Data, Length: 223, dtype: datetime64[ns]>"
      ]
     },
     "execution_count": 137,
     "metadata": {},
     "output_type": "execute_result"
    }
   ],
   "source": [
    "df['Data'].describe"
   ]
  },
  {
   "cell_type": "code",
   "execution_count": 158,
   "metadata": {},
   "outputs": [
    {
     "data": {
      "text/plain": [
       "numpy.datetime64"
      ]
     },
     "execution_count": 158,
     "metadata": {},
     "output_type": "execute_result"
    }
   ],
   "source": [
    "type(_today)"
   ]
  },
  {
   "cell_type": "code",
   "execution_count": 159,
   "metadata": {},
   "outputs": [
    {
     "data": {
      "text/plain": [
       "numpy.datetime64('2024-05-09')"
      ]
     },
     "execution_count": 159,
     "metadata": {},
     "output_type": "execute_result"
    }
   ],
   "source": [
    "_today"
   ]
  },
  {
   "cell_type": "code",
   "execution_count": 164,
   "metadata": {},
   "outputs": [
    {
     "data": {
      "text/html": [
       "<div>\n",
       "<style scoped>\n",
       "    .dataframe tbody tr th:only-of-type {\n",
       "        vertical-align: middle;\n",
       "    }\n",
       "\n",
       "    .dataframe tbody tr th {\n",
       "        vertical-align: top;\n",
       "    }\n",
       "\n",
       "    .dataframe thead th {\n",
       "        text-align: right;\n",
       "    }\n",
       "</style>\n",
       "<table border=\"1\" class=\"dataframe\">\n",
       "  <thead>\n",
       "    <tr style=\"text-align: right;\">\n",
       "      <th></th>\n",
       "      <th>Responsável</th>\n",
       "      <th>Item</th>\n",
       "      <th>BASE ID</th>\n",
       "      <th>Pedido</th>\n",
       "      <th>Valor</th>\n",
       "      <th>Dia</th>\n",
       "      <th>Data</th>\n",
       "    </tr>\n",
       "  </thead>\n",
       "  <tbody>\n",
       "    <tr>\n",
       "      <th>355</th>\n",
       "      <td>Byanca</td>\n",
       "      <td>Abacaxi pérola</td>\n",
       "      <td>8.0</td>\n",
       "      <td>SEXTA 10/5</td>\n",
       "      <td>1300.0</td>\n",
       "      <td>SEXTA</td>\n",
       "      <td>2024-05-10</td>\n",
       "    </tr>\n",
       "    <tr>\n",
       "      <th>412</th>\n",
       "      <td>Byanca</td>\n",
       "      <td>Laranja pera média</td>\n",
       "      <td>210.0</td>\n",
       "      <td>SEXTA 10/5</td>\n",
       "      <td>8000.0</td>\n",
       "      <td>SEXTA</td>\n",
       "      <td>2024-05-10</td>\n",
       "    </tr>\n",
       "    <tr>\n",
       "      <th>415</th>\n",
       "      <td>Byanca</td>\n",
       "      <td>Limão siciliano</td>\n",
       "      <td>110.0</td>\n",
       "      <td>SEXTA 10/5</td>\n",
       "      <td>600.0</td>\n",
       "      <td>SEXTA</td>\n",
       "      <td>2024-05-10</td>\n",
       "    </tr>\n",
       "    <tr>\n",
       "      <th>416</th>\n",
       "      <td>Byanca</td>\n",
       "      <td>Limão tahiti</td>\n",
       "      <td>234.0</td>\n",
       "      <td>SEXTA 10/5</td>\n",
       "      <td>3800.0</td>\n",
       "      <td>SEXTA</td>\n",
       "      <td>2024-05-10</td>\n",
       "    </tr>\n",
       "    <tr>\n",
       "      <th>427</th>\n",
       "      <td>Byanca</td>\n",
       "      <td>Maracujá</td>\n",
       "      <td>34.0</td>\n",
       "      <td>SEXTA 10/5</td>\n",
       "      <td>620.0</td>\n",
       "      <td>SEXTA</td>\n",
       "      <td>2024-05-10</td>\n",
       "    </tr>\n",
       "    <tr>\n",
       "      <th>...</th>\n",
       "      <td>...</td>\n",
       "      <td>...</td>\n",
       "      <td>...</td>\n",
       "      <td>...</td>\n",
       "      <td>...</td>\n",
       "      <td>...</td>\n",
       "      <td>...</td>\n",
       "    </tr>\n",
       "    <tr>\n",
       "      <th>854</th>\n",
       "      <td>Nidia</td>\n",
       "      <td>Batata lavada</td>\n",
       "      <td>182.0</td>\n",
       "      <td>TERÇA 14/5</td>\n",
       "      <td>3000.0</td>\n",
       "      <td>TERÇA</td>\n",
       "      <td>2024-05-14</td>\n",
       "    </tr>\n",
       "    <tr>\n",
       "      <th>855</th>\n",
       "      <td>Nidia</td>\n",
       "      <td>Berinjela</td>\n",
       "      <td>222.0</td>\n",
       "      <td>TERÇA 14/5</td>\n",
       "      <td>680.0</td>\n",
       "      <td>TERÇA</td>\n",
       "      <td>2024-05-14</td>\n",
       "    </tr>\n",
       "    <tr>\n",
       "      <th>983</th>\n",
       "      <td>Nidia</td>\n",
       "      <td>Chuchu</td>\n",
       "      <td>157.0</td>\n",
       "      <td>QUARTA 15/5</td>\n",
       "      <td>480.0</td>\n",
       "      <td>QUARTA</td>\n",
       "      <td>2024-05-15</td>\n",
       "    </tr>\n",
       "    <tr>\n",
       "      <th>1030</th>\n",
       "      <td>Nidia</td>\n",
       "      <td>Pepino japonês</td>\n",
       "      <td>33.0</td>\n",
       "      <td>QUARTA 15/5</td>\n",
       "      <td>480.0</td>\n",
       "      <td>QUARTA</td>\n",
       "      <td>2024-05-15</td>\n",
       "    </tr>\n",
       "    <tr>\n",
       "      <th>1148</th>\n",
       "      <td>Nidia</td>\n",
       "      <td>Pepino japonês</td>\n",
       "      <td>33.0</td>\n",
       "      <td>QUINTA 16/5</td>\n",
       "      <td>500.0</td>\n",
       "      <td>QUINTA</td>\n",
       "      <td>2024-05-16</td>\n",
       "    </tr>\n",
       "  </tbody>\n",
       "</table>\n",
       "<p>184 rows × 7 columns</p>\n",
       "</div>"
      ],
      "text/plain": [
       "     Responsável                Item  BASE ID       Pedido   Valor     Dia  \\\n",
       "355       Byanca      Abacaxi pérola      8.0   SEXTA 10/5  1300.0   SEXTA   \n",
       "412       Byanca  Laranja pera média    210.0   SEXTA 10/5  8000.0   SEXTA   \n",
       "415       Byanca     Limão siciliano    110.0   SEXTA 10/5   600.0   SEXTA   \n",
       "416       Byanca        Limão tahiti    234.0   SEXTA 10/5  3800.0   SEXTA   \n",
       "427       Byanca            Maracujá     34.0   SEXTA 10/5   620.0   SEXTA   \n",
       "...          ...                 ...      ...          ...     ...     ...   \n",
       "854        Nidia       Batata lavada    182.0   TERÇA 14/5  3000.0   TERÇA   \n",
       "855        Nidia           Berinjela    222.0   TERÇA 14/5   680.0   TERÇA   \n",
       "983        Nidia              Chuchu    157.0  QUARTA 15/5   480.0  QUARTA   \n",
       "1030       Nidia      Pepino japonês     33.0  QUARTA 15/5   480.0  QUARTA   \n",
       "1148       Nidia      Pepino japonês     33.0  QUINTA 16/5   500.0  QUINTA   \n",
       "\n",
       "           Data  \n",
       "355  2024-05-10  \n",
       "412  2024-05-10  \n",
       "415  2024-05-10  \n",
       "416  2024-05-10  \n",
       "427  2024-05-10  \n",
       "...         ...  \n",
       "854  2024-05-14  \n",
       "855  2024-05-14  \n",
       "983  2024-05-15  \n",
       "1030 2024-05-15  \n",
       "1148 2024-05-16  \n",
       "\n",
       "[184 rows x 7 columns]"
      ]
     },
     "execution_count": 164,
     "metadata": {},
     "output_type": "execute_result"
    }
   ],
   "source": [
    "df[df['Data'] >= _today]"
   ]
  },
  {
   "cell_type": "code",
   "execution_count": null,
   "metadata": {},
   "outputs": [],
   "source": []
  }
 ],
 "metadata": {
  "kernelspec": {
   "display_name": ".venv",
   "language": "python",
   "name": "python3"
  },
  "language_info": {
   "codemirror_mode": {
    "name": "ipython",
    "version": 3
   },
   "file_extension": ".py",
   "mimetype": "text/x-python",
   "name": "python",
   "nbconvert_exporter": "python",
   "pygments_lexer": "ipython3",
   "version": "3.12.1"
  }
 },
 "nbformat": 4,
 "nbformat_minor": 2
}
