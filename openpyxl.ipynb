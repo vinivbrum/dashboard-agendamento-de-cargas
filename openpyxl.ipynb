{
 "cells": [
  {
   "cell_type": "code",
   "execution_count": 137,
   "metadata": {},
   "outputs": [],
   "source": [
    "import pandas as pd"
   ]
  },
  {
   "cell_type": "code",
   "execution_count": 138,
   "metadata": {},
   "outputs": [],
   "source": [
    "df = pd.read_excel('Pedidos Semanal.xlsx', sheet_name='COMPRAS',skiprows=2,header=0)"
   ]
  },
  {
   "cell_type": "code",
   "execution_count": 139,
   "metadata": {},
   "outputs": [],
   "source": [
    "df.drop(columns=['shelflife','Estoque'],inplace=True)"
   ]
  },
  {
   "cell_type": "code",
   "execution_count": 140,
   "metadata": {},
   "outputs": [],
   "source": [
    "df = df[df['Status'] == 'Pedido']"
   ]
  },
  {
   "cell_type": "code",
   "execution_count": 141,
   "metadata": {},
   "outputs": [],
   "source": [
    "df.drop(columns='Status',inplace=True)"
   ]
  },
  {
   "cell_type": "code",
   "execution_count": 142,
   "metadata": {},
   "outputs": [
    {
     "data": {
      "text/plain": [
       "'TERÇA 7/5,QUARTA 8/5,QUINTA 9/5,SEXTA 10/5,SABADO 11/5,DOMINGO 12/5,SEGUNDA 13/5,TERÇA 14/5,QUARTA 15/5,QUINTA 16/5,SEXTA 17/5'"
      ]
     },
     "execution_count": 142,
     "metadata": {},
     "output_type": "execute_result"
    }
   ],
   "source": [
    "colums_list = df.columns.to_list()\n",
    "colums_list \n",
    "dias = colums_list[3:14]\n",
    "dias_strg = ','.join(dias)\n",
    "dias_strg\n"
   ]
  },
  {
   "cell_type": "code",
   "execution_count": 143,
   "metadata": {},
   "outputs": [],
   "source": [
    "df = df.melt(id_vars=['Responsável','Item','BASE ID'],value_vars=dias,var_name='Pedido',value_name='Valor',ignore_index=True )\n"
   ]
  },
  {
   "cell_type": "code",
   "execution_count": 144,
   "metadata": {},
   "outputs": [],
   "source": [
    "df = df.dropna(subset=['Valor'])"
   ]
  },
  {
   "cell_type": "code",
   "execution_count": 145,
   "metadata": {},
   "outputs": [],
   "source": [
    "def separar_dia(dia):\n",
    "    dia = dia.split(' ')\n",
    "    dia = dia[0]\n",
    "    return dia\n",
    "df['Dia'] = df['Pedido'].apply(separar_dia)\n",
    "\n",
    "def separar_data(data):\n",
    "    data = data.split(' ')\n",
    "    data = data[1]\n",
    "    data = data + '/2024'\n",
    "    return data\n",
    "\n",
    "df['Data'] = df['Pedido'].apply(separar_data)\n",
    "df['Data'] = pd.to_datetime(df['Data'], format='%d/%m/%Y')"
   ]
  },
  {
   "cell_type": "code",
   "execution_count": 146,
   "metadata": {},
   "outputs": [],
   "source": [
    "df = df.sort_values(by=['Responsável','Data','Item'],ascending=True)"
   ]
  },
  {
   "cell_type": "code",
   "execution_count": 147,
   "metadata": {},
   "outputs": [
    {
     "data": {
      "text/html": [
       "<div>\n",
       "<style scoped>\n",
       "    .dataframe tbody tr th:only-of-type {\n",
       "        vertical-align: middle;\n",
       "    }\n",
       "\n",
       "    .dataframe tbody tr th {\n",
       "        vertical-align: top;\n",
       "    }\n",
       "\n",
       "    .dataframe thead th {\n",
       "        text-align: right;\n",
       "    }\n",
       "</style>\n",
       "<table border=\"1\" class=\"dataframe\">\n",
       "  <thead>\n",
       "    <tr style=\"text-align: right;\">\n",
       "      <th></th>\n",
       "      <th>Responsável</th>\n",
       "      <th>Item</th>\n",
       "      <th>BASE ID</th>\n",
       "      <th>Pedido</th>\n",
       "      <th>Valor</th>\n",
       "      <th>Dia</th>\n",
       "      <th>Data</th>\n",
       "    </tr>\n",
       "  </thead>\n",
       "  <tbody>\n",
       "    <tr>\n",
       "      <th>119</th>\n",
       "      <td>Byanca</td>\n",
       "      <td>Abacaxi pérola</td>\n",
       "      <td>8.0</td>\n",
       "      <td>QUARTA 8/5</td>\n",
       "      <td>1600.0</td>\n",
       "      <td>QUARTA</td>\n",
       "      <td>2024-05-08</td>\n",
       "    </tr>\n",
       "    <tr>\n",
       "      <th>176</th>\n",
       "      <td>Byanca</td>\n",
       "      <td>Laranja pera média</td>\n",
       "      <td>210.0</td>\n",
       "      <td>QUARTA 8/5</td>\n",
       "      <td>4000.0</td>\n",
       "      <td>QUARTA</td>\n",
       "      <td>2024-05-08</td>\n",
       "    </tr>\n",
       "    <tr>\n",
       "      <th>179</th>\n",
       "      <td>Byanca</td>\n",
       "      <td>Limão siciliano</td>\n",
       "      <td>110.0</td>\n",
       "      <td>QUARTA 8/5</td>\n",
       "      <td>120.0</td>\n",
       "      <td>QUARTA</td>\n",
       "      <td>2024-05-08</td>\n",
       "    </tr>\n",
       "    <tr>\n",
       "      <th>180</th>\n",
       "      <td>Byanca</td>\n",
       "      <td>Limão tahiti</td>\n",
       "      <td>234.0</td>\n",
       "      <td>QUARTA 8/5</td>\n",
       "      <td>1600.0</td>\n",
       "      <td>QUARTA</td>\n",
       "      <td>2024-05-08</td>\n",
       "    </tr>\n",
       "    <tr>\n",
       "      <th>191</th>\n",
       "      <td>Byanca</td>\n",
       "      <td>Maracujá</td>\n",
       "      <td>34.0</td>\n",
       "      <td>QUARTA 8/5</td>\n",
       "      <td>500.0</td>\n",
       "      <td>QUARTA</td>\n",
       "      <td>2024-05-08</td>\n",
       "    </tr>\n",
       "    <tr>\n",
       "      <th>...</th>\n",
       "      <td>...</td>\n",
       "      <td>...</td>\n",
       "      <td>...</td>\n",
       "      <td>...</td>\n",
       "      <td>...</td>\n",
       "      <td>...</td>\n",
       "      <td>...</td>\n",
       "    </tr>\n",
       "    <tr>\n",
       "      <th>854</th>\n",
       "      <td>Nidia</td>\n",
       "      <td>Batata lavada</td>\n",
       "      <td>182.0</td>\n",
       "      <td>TERÇA 14/5</td>\n",
       "      <td>3000.0</td>\n",
       "      <td>TERÇA</td>\n",
       "      <td>2024-05-14</td>\n",
       "    </tr>\n",
       "    <tr>\n",
       "      <th>855</th>\n",
       "      <td>Nidia</td>\n",
       "      <td>Berinjela</td>\n",
       "      <td>222.0</td>\n",
       "      <td>TERÇA 14/5</td>\n",
       "      <td>680.0</td>\n",
       "      <td>TERÇA</td>\n",
       "      <td>2024-05-14</td>\n",
       "    </tr>\n",
       "    <tr>\n",
       "      <th>983</th>\n",
       "      <td>Nidia</td>\n",
       "      <td>Chuchu</td>\n",
       "      <td>157.0</td>\n",
       "      <td>QUARTA 15/5</td>\n",
       "      <td>480.0</td>\n",
       "      <td>QUARTA</td>\n",
       "      <td>2024-05-15</td>\n",
       "    </tr>\n",
       "    <tr>\n",
       "      <th>1030</th>\n",
       "      <td>Nidia</td>\n",
       "      <td>Pepino japonês</td>\n",
       "      <td>33.0</td>\n",
       "      <td>QUARTA 15/5</td>\n",
       "      <td>480.0</td>\n",
       "      <td>QUARTA</td>\n",
       "      <td>2024-05-15</td>\n",
       "    </tr>\n",
       "    <tr>\n",
       "      <th>1148</th>\n",
       "      <td>Nidia</td>\n",
       "      <td>Pepino japonês</td>\n",
       "      <td>33.0</td>\n",
       "      <td>QUINTA 16/5</td>\n",
       "      <td>500.0</td>\n",
       "      <td>QUINTA</td>\n",
       "      <td>2024-05-16</td>\n",
       "    </tr>\n",
       "  </tbody>\n",
       "</table>\n",
       "<p>223 rows × 7 columns</p>\n",
       "</div>"
      ],
      "text/plain": [
       "     Responsável                Item  BASE ID       Pedido   Valor     Dia  \\\n",
       "119       Byanca      Abacaxi pérola      8.0   QUARTA 8/5  1600.0  QUARTA   \n",
       "176       Byanca  Laranja pera média    210.0   QUARTA 8/5  4000.0  QUARTA   \n",
       "179       Byanca     Limão siciliano    110.0   QUARTA 8/5   120.0  QUARTA   \n",
       "180       Byanca        Limão tahiti    234.0   QUARTA 8/5  1600.0  QUARTA   \n",
       "191       Byanca            Maracujá     34.0   QUARTA 8/5   500.0  QUARTA   \n",
       "...          ...                 ...      ...          ...     ...     ...   \n",
       "854        Nidia       Batata lavada    182.0   TERÇA 14/5  3000.0   TERÇA   \n",
       "855        Nidia           Berinjela    222.0   TERÇA 14/5   680.0   TERÇA   \n",
       "983        Nidia              Chuchu    157.0  QUARTA 15/5   480.0  QUARTA   \n",
       "1030       Nidia      Pepino japonês     33.0  QUARTA 15/5   480.0  QUARTA   \n",
       "1148       Nidia      Pepino japonês     33.0  QUINTA 16/5   500.0  QUINTA   \n",
       "\n",
       "           Data  \n",
       "119  2024-05-08  \n",
       "176  2024-05-08  \n",
       "179  2024-05-08  \n",
       "180  2024-05-08  \n",
       "191  2024-05-08  \n",
       "...         ...  \n",
       "854  2024-05-14  \n",
       "855  2024-05-14  \n",
       "983  2024-05-15  \n",
       "1030 2024-05-15  \n",
       "1148 2024-05-16  \n",
       "\n",
       "[223 rows x 7 columns]"
      ]
     },
     "execution_count": 147,
     "metadata": {},
     "output_type": "execute_result"
    }
   ],
   "source": [
    "df"
   ]
  },
  {
   "cell_type": "code",
   "execution_count": 159,
   "metadata": {},
   "outputs": [
    {
     "ename": "AttributeError",
     "evalue": "partially initialized module 'streamlit' has no attribute 'write' (most likely due to a circular import)",
     "output_type": "error",
     "traceback": [
      "\u001b[1;31m---------------------------------------------------------------------------\u001b[0m",
      "\u001b[1;31mAttributeError\u001b[0m                            Traceback (most recent call last)",
      "Cell \u001b[1;32mIn[159], line 1\u001b[0m\n\u001b[1;32m----> 1\u001b[0m \u001b[38;5;28;01mimport\u001b[39;00m \u001b[38;5;21;01mstreamlit\u001b[39;00m \u001b[38;5;28;01mas\u001b[39;00m \u001b[38;5;21;01mst\u001b[39;00m\n\u001b[0;32m      3\u001b[0m st\u001b[38;5;241m.\u001b[39mwrite(df)\n",
      "File \u001b[1;32mc:\\Users\\Brum\\workspace\\dash_cargas_agendadas\\streamlit.py:5\u001b[0m\n\u001b[0;32m      2\u001b[0m \u001b[38;5;28;01mimport\u001b[39;00m \u001b[38;5;21;01mpandas\u001b[39;00m \u001b[38;5;28;01mas\u001b[39;00m \u001b[38;5;21;01mpd\u001b[39;00m\n\u001b[0;32m      4\u001b[0m \u001b[38;5;66;03m#start a streamlit app and create a imput widget\u001b[39;00m\n\u001b[1;32m----> 5\u001b[0m \u001b[43mst\u001b[49m\u001b[38;5;241;43m.\u001b[39;49m\u001b[43mwrite\u001b[49m(\u001b[38;5;124m'\u001b[39m\u001b[38;5;124mCargas agendadas\u001b[39m\u001b[38;5;124m'\u001b[39m)\n\u001b[0;32m      6\u001b[0m upload \u001b[38;5;241m=\u001b[39m st\u001b[38;5;241m.\u001b[39mfile_uploader(\u001b[38;5;124m\"\u001b[39m\u001b[38;5;124mEscolha um arquivo Excel\u001b[39m\u001b[38;5;124m\"\u001b[39m, \u001b[38;5;28mtype\u001b[39m\u001b[38;5;241m=\u001b[39m\u001b[38;5;124m\"\u001b[39m\u001b[38;5;124mxlsx\u001b[39m\u001b[38;5;124m\"\u001b[39m)\n\u001b[0;32m      7\u001b[0m wb \u001b[38;5;241m=\u001b[39m pd\u001b[38;5;241m.\u001b[39mread_excel(upload, sheet_name\u001b[38;5;241m=\u001b[39m\u001b[38;5;124m'\u001b[39m\u001b[38;5;124mCOMPRAS\u001b[39m\u001b[38;5;124m'\u001b[39m,skiprows\u001b[38;5;241m=\u001b[39m\u001b[38;5;241m2\u001b[39m,header\u001b[38;5;241m=\u001b[39m\u001b[38;5;241m0\u001b[39m)\n",
      "\u001b[1;31mAttributeError\u001b[0m: partially initialized module 'streamlit' has no attribute 'write' (most likely due to a circular import)"
     ]
    },
    {
     "ename": "",
     "evalue": "",
     "output_type": "error",
     "traceback": [
      "\u001b[1;31mThe Kernel crashed while executing code in the current cell or a previous cell. \n",
      "\u001b[1;31mPlease review the code in the cell(s) to identify a possible cause of the failure. \n",
      "\u001b[1;31mClick <a href='https://aka.ms/vscodeJupyterKernelCrash'>here</a> for more info. \n",
      "\u001b[1;31mView Jupyter <a href='command:jupyter.viewOutput'>log</a> for further details."
     ]
    }
   ],
   "source": [
    "import streamlit as st\n",
    "\n",
    "st.write(df)"
   ]
  },
  {
   "cell_type": "code",
   "execution_count": null,
   "metadata": {},
   "outputs": [],
   "source": []
  },
  {
   "cell_type": "code",
   "execution_count": null,
   "metadata": {},
   "outputs": [],
   "source": []
  }
 ],
 "metadata": {
  "kernelspec": {
   "display_name": ".venv",
   "language": "python",
   "name": "python3"
  },
  "language_info": {
   "codemirror_mode": {
    "name": "ipython",
    "version": 3
   },
   "file_extension": ".py",
   "mimetype": "text/x-python",
   "name": "python",
   "nbconvert_exporter": "python",
   "pygments_lexer": "ipython3",
   "version": "3.12.1"
  }
 },
 "nbformat": 4,
 "nbformat_minor": 2
}
